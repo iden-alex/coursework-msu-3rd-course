{
  "nbformat": 4,
  "nbformat_minor": 0,
  "metadata": {
    "kernelspec": {
      "display_name": "Python 3",
      "language": "python",
      "name": "python3"
    },
    "language_info": {
      "codemirror_mode": {
        "name": "ipython",
        "version": 3
      },
      "file_extension": ".py",
      "mimetype": "text/x-python",
      "name": "python",
      "nbconvert_exporter": "python",
      "pygments_lexer": "ipython3",
      "version": "3.7.5"
    },
    "colab": {
      "name": "WebOfScience_svm_bayes.ipynb",
      "provenance": [],
      "collapsed_sections": []
    }
  },
  "cells": [
    {
      "cell_type": "code",
      "metadata": {
        "id": "6CCGqeIUSOEe",
        "colab_type": "code",
        "colab": {}
      },
      "source": [
        "import os\n",
        "import json\n",
        "import matplotlib.pyplot as plt\n",
        "import numpy as np\n",
        "import nltk \n",
        "\n",
        "from nltk import word_tokenize\n",
        "from nltk.stem.porter import PorterStemmer\n",
        "from nltk import WordNetLemmatizer\n",
        "from nltk import pos_tag\n",
        "from nltk.corpus import reuters, stopwords\n",
        "from string import punctuation\n",
        "\n",
        "from sklearn.pipeline import Pipeline\n",
        "from sklearn.model_selection import train_test_split, GridSearchCV\n",
        "from sklearn.feature_extraction.text import CountVectorizer, TfidfVectorizer\n",
        "from sklearn import metrics\n",
        "from sklearn.metrics import f1_score, precision_score, recall_score, accuracy_score, classification_report\n",
        "from sklearn.svm import LinearSVC\n",
        "from sklearn.naive_bayes import MultinomialNB\n",
        "from sklearn.linear_model import LogisticRegression\n"
      ],
      "execution_count": 0,
      "outputs": []
    },
    {
      "cell_type": "code",
      "metadata": {
        "id": "Tg37F_RUSOEj",
        "colab_type": "code",
        "colab": {}
      },
      "source": [
        "fname_x = os.path.join(\"WOS11967/X.txt\")\n",
        "fname_y = os.path.join(\"WOS11967/Y.txt\")"
      ],
      "execution_count": 0,
      "outputs": []
    },
    {
      "cell_type": "code",
      "metadata": {
        "id": "qhI7sJ37SOEn",
        "colab_type": "code",
        "colab": {}
      },
      "source": [
        "with open(fname_x, encoding=\"utf-8\") as f:\n",
        "    content_x = f.readlines()\n",
        "with open(fname_y) as fk:\n",
        "    content_y = fk.readlines()"
      ],
      "execution_count": 0,
      "outputs": []
    },
    {
      "cell_type": "markdown",
      "metadata": {
        "id": "I8Ua4l8jSOEq",
        "colab_type": "text"
      },
      "source": [
        "## Lemmatisation"
      ]
    },
    {
      "cell_type": "code",
      "metadata": {
        "id": "1DwK24zxSOEr",
        "colab_type": "code",
        "colab": {}
      },
      "source": [
        "wnl = WordNetLemmatizer()\n",
        "\n",
        "def penn2morphy(penntag):\n",
        "    \"\"\" Converts Penn Treebank tags to WordNet. \"\"\"\n",
        "    morphy_tag = {'NN':'n', 'JJ':'a',\n",
        "                  'VB':'v', 'RB':'r'}\n",
        "    try:\n",
        "        return morphy_tag[penntag[:2]]\n",
        "    except:\n",
        "        return 'n' \n",
        "    \n",
        "def lemmatize_sent(text): \n",
        "    # Text input is string, returns lowercased strings.\n",
        "    return [wnl.lemmatize(word.lower(), pos=penn2morphy(tag)) \n",
        "            for word, tag in pos_tag(word_tokenize(text))]\n",
        "\n",
        "def preprocess_text(text):\n",
        "    # Input: str, i.e. document/sentence\n",
        "    # Output: list(str) , i.e. list of lemmas\n",
        "    return [word for word in lemmatize_sent(text) \n",
        "            if word not in stoplist_combined\n",
        "            and word.isalpha() ]\n",
        "         "
      ],
      "execution_count": 0,
      "outputs": []
    },
    {
      "cell_type": "code",
      "metadata": {
        "id": "tr16NuewSOEw",
        "colab_type": "code",
        "colab": {}
      },
      "source": [
        "stopwords_json_en = set(json.load(open('en.json')))\n",
        "stopwords_nltk_en = set(stopwords.words('english'))\n",
        "stopwords_punct = set(punctuation)\n",
        "stopwords_time = set([\"--\",\"jan\",\"january\",\"feb\",\"february\",\"mar\",\"march\",\"apr\",\"april\",\"may\",\"jun\",\"june\",\"jul\",\"july\",\n",
        "             \"aug\",\"august\",\"sept\",\"september\",\"oct\",\"october\",\"nov\",\"november\",\"dec\",\"december\"])\n",
        "stoplist_combined = set.union(stopwords_json_en, stopwords_nltk_en, stopwords_punct, stopwords_time)   "
      ],
      "execution_count": 0,
      "outputs": []
    },
    {
      "cell_type": "code",
      "metadata": {
        "id": "Yv6aJlMFSOE0",
        "colab_type": "code",
        "outputId": "1c26984e-cae5-4827-e020-c85df48e9fbe",
        "colab": {}
      },
      "source": [
        "label = np.matrix(content_y, dtype=int)\n",
        "label = np.transpose(label)\n",
        "print(label.shape)\n",
        "np.random.seed(7)\n",
        "train_text, test_text, y_train, y_test = train_test_split(content_x, label, test_size=0.2, random_state=4)"
      ],
      "execution_count": 0,
      "outputs": [
        {
          "output_type": "stream",
          "text": [
            "(11967, 1)\n"
          ],
          "name": "stdout"
        }
      ]
    },
    {
      "cell_type": "code",
      "metadata": {
        "id": "dvX0XTcRSOE4",
        "colab_type": "code",
        "colab": {}
      },
      "source": [
        "y_train = np.array([int(y) for y in y_train])\n",
        "y_test = np.array([int(y) for y in y_test])"
      ],
      "execution_count": 0,
      "outputs": []
    },
    {
      "cell_type": "code",
      "metadata": {
        "id": "PAp_vAcwSOE9",
        "colab_type": "code",
        "colab": {}
      },
      "source": [
        "X_train_tokens = [preprocess_text(text) for text in train_text]\n",
        "X_test_tokens = [preprocess_text(text) for text in test_text]"
      ],
      "execution_count": 0,
      "outputs": []
    },
    {
      "cell_type": "markdown",
      "metadata": {
        "id": "JOLeM-AbSOFA",
        "colab_type": "text"
      },
      "source": [
        "## TF-IDF"
      ]
    },
    {
      "cell_type": "code",
      "metadata": {
        "id": "FUexya75SOFB",
        "colab_type": "code",
        "colab": {}
      },
      "source": [
        "def const(tmp):\n",
        "    return tmp"
      ],
      "execution_count": 0,
      "outputs": []
    },
    {
      "cell_type": "code",
      "metadata": {
        "id": "Sysw6ZZCSOFE",
        "colab_type": "code",
        "colab": {}
      },
      "source": [
        "tfidf_vectorizer = TfidfVectorizer(tokenizer=const, preprocessor=const, min_df=3, max_df = 0.9)\n",
        "x_train_tfidf = tfidf_vectorizer.fit_transform(X_train_tokens).toarray()\n",
        "x_test_tfidf = tfidf_vectorizer.transform(X_test_tokens).toarray()"
      ],
      "execution_count": 0,
      "outputs": []
    },
    {
      "cell_type": "markdown",
      "metadata": {
        "id": "p7L1RXkMSOFH",
        "colab_type": "text"
      },
      "source": [
        "## Learning"
      ]
    },
    {
      "cell_type": "code",
      "metadata": {
        "id": "lEFPuTgUSOFI",
        "colab_type": "code",
        "colab": {}
      },
      "source": [
        "def grid_search(train_x, train_y, test_x, test_y, parameters, pipeline):\n",
        "    grid_search_tune = GridSearchCV(pipeline, parameters, n_jobs=-1, scoring='accuracy', cv=5, verbose=1)\n",
        "    grid_search_tune.fit(train_x, train_y)\n",
        "\n",
        "    print(\"Best parameters set:\")\n",
        "    print(grid_search_tune.best_estimator_.steps)\n",
        "\n",
        "    print(\"Best score: %0.4f\" % grid_search_tune.best_score_)\n",
        "    print(\"Applying best classifier on test data:\")\n",
        "    best_clf = grid_search_tune.best_estimator_\n",
        "    predictions = best_clf.predict(test_x)\n",
        "    print(accuracy_score(test_y, predictions))\n",
        "    print(classification_report(test_y, predictions))\n",
        "    return best_clf"
      ],
      "execution_count": 0,
      "outputs": []
    },
    {
      "cell_type": "markdown",
      "metadata": {
        "id": "IF6X7bEvSOFM",
        "colab_type": "text"
      },
      "source": [
        "## Naive Bayes"
      ]
    },
    {
      "cell_type": "code",
      "metadata": {
        "id": "CZzjb6ZDSOFN",
        "colab_type": "code",
        "colab": {}
      },
      "source": [
        "%%capture output\n",
        "pipeline = Pipeline([\n",
        "                ('vect', CountVectorizer(tokenizer=const, preprocessor=const)),\n",
        "                ('clf', MultinomialNB(fit_prior=True, class_prior=None)),\n",
        "            ])\n",
        "parameters = {\n",
        "                'vect__max_df': [0.3, 0.5, 0.75, 0.9, None],\n",
        "                'vect__min_df': [1, 3, 5],\n",
        "                'vect__max_features': [3000, 5000, None],\n",
        "                'vect__ngram_range': [(1, 1), (1, 2), (1, 3)],\n",
        "                'clf__alpha': [1e-1, 1e-3],\n",
        "} \n",
        "model_bayes_bag = grid_search(X_train_tokens , y_train, X_test_tokens, y_test, parameters, pipeline)"
      ],
      "execution_count": 0,
      "outputs": []
    },
    {
      "cell_type": "code",
      "metadata": {
        "id": "E4OUMv1QSOFQ",
        "colab_type": "code",
        "outputId": "c4cc3146-467c-415c-a042-46ca2123de12",
        "colab": {}
      },
      "source": [
        "output.show()"
      ],
      "execution_count": 0,
      "outputs": [
        {
          "output_type": "stream",
          "text": [
            "Fitting 5 folds for each of 270 candidates, totalling 1350 fits\n",
            "Best parameters set:\n",
            "[('vect', CountVectorizer(analyzer='word', binary=False, decode_error='strict',\n",
            "                dtype=<class 'numpy.int64'>, encoding='utf-8', input='content',\n",
            "                lowercase=True, max_df=0.5, max_features=None, min_df=1,\n",
            "                ngram_range=(1, 3),\n",
            "                preprocessor=<function const at 0x7f19869a84d0>,\n",
            "                stop_words=None, strip_accents=None,\n",
            "                token_pattern='(?u)\\\\b\\\\w\\\\w+\\\\b',\n",
            "                tokenizer=<function const at 0x7f19869a84d0>, vocabulary=None)), ('clf', MultinomialNB(alpha=0.1, class_prior=None, fit_prior=True))]\n",
            "Best score: 0.7612\n",
            "Applying best classifier on test data:\n",
            "0.7560568086883876\n",
            "              precision    recall  f1-score   support\n",
            "\n",
            "           0       0.81      0.72      0.76        72\n",
            "           1       0.63      0.63      0.63        57\n",
            "           2       0.76      0.85      0.80        52\n",
            "           3       0.96      0.85      0.90        59\n",
            "           4       0.92      0.69      0.79        71\n",
            "           5       0.82      0.65      0.72        62\n",
            "           6       0.82      0.65      0.72        85\n",
            "           7       0.80      0.92      0.86        91\n",
            "           8       0.66      0.77      0.71        69\n",
            "           9       0.64      0.75      0.69        71\n",
            "          10       0.77      0.76      0.77        76\n",
            "          11       0.79      0.74      0.77        73\n",
            "          12       0.79      0.78      0.79        88\n",
            "          13       0.75      0.64      0.69        73\n",
            "          14       0.67      0.74      0.71        66\n",
            "          15       0.79      0.78      0.79        68\n",
            "          16       0.82      0.82      0.82        91\n",
            "          17       0.81      0.80      0.81        81\n",
            "          18       0.78      0.95      0.86        81\n",
            "          19       0.89      0.88      0.89        92\n",
            "          20       0.81      0.79      0.80        84\n",
            "          21       0.73      0.96      0.83        80\n",
            "          22       0.66      0.79      0.72        82\n",
            "          23       0.82      0.59      0.69        71\n",
            "          24       0.79      0.74      0.76        72\n",
            "          25       0.69      0.95      0.80        64\n",
            "          26       0.74      0.95      0.83        59\n",
            "          27       0.63      0.53      0.58        45\n",
            "          28       0.64      0.56      0.60        70\n",
            "          29       0.56      0.68      0.61        57\n",
            "          30       0.82      0.82      0.82        91\n",
            "          31       0.60      0.48      0.53        71\n",
            "          32       0.78      0.50      0.61        70\n",
            "\n",
            "    accuracy                           0.76      2394\n",
            "   macro avg       0.76      0.75      0.75      2394\n",
            "weighted avg       0.76      0.76      0.75      2394\n",
            "\n"
          ],
          "name": "stdout"
        },
        {
          "output_type": "stream",
          "text": [
            "[Parallel(n_jobs=-1)]: Using backend LokyBackend with 8 concurrent workers.\n",
            "[Parallel(n_jobs=-1)]: Done  34 tasks      | elapsed:  1.7min\n",
            "[Parallel(n_jobs=-1)]: Done 184 tasks      | elapsed:  9.3min\n",
            "[Parallel(n_jobs=-1)]: Done 434 tasks      | elapsed: 22.1min\n",
            "[Parallel(n_jobs=-1)]: Done 784 tasks      | elapsed: 39.9min\n",
            "[Parallel(n_jobs=-1)]: Done 1234 tasks      | elapsed: 62.7min\n",
            "[Parallel(n_jobs=-1)]: Done 1350 out of 1350 | elapsed: 68.3min finished\n"
          ],
          "name": "stderr"
        }
      ]
    },
    {
      "cell_type": "code",
      "metadata": {
        "id": "41saSKRHSOFV",
        "colab_type": "code",
        "outputId": "4b519b00-1b25-4e18-f36a-5637f02bd84c",
        "colab": {}
      },
      "source": [
        "pipeline = Pipeline([\n",
        "                ('vect', TfidfVectorizer(tokenizer=const, preprocessor=const)),\n",
        "                ('clf', MultinomialNB(fit_prior=True, class_prior=None)),\n",
        "            ])\n",
        "model_bayes_tfidf = grid_search(X_train_tokens , y_train, X_test_tokens, y_test, parameters, pipeline)"
      ],
      "execution_count": 0,
      "outputs": [
        {
          "output_type": "stream",
          "text": [
            "Fitting 5 folds for each of 540 candidates, totalling 2700 fits\n"
          ],
          "name": "stdout"
        },
        {
          "output_type": "stream",
          "text": [
            "[Parallel(n_jobs=-1)]: Using backend LokyBackend with 8 concurrent workers.\n",
            "[Parallel(n_jobs=-1)]: Done  34 tasks      | elapsed:  1.7min\n",
            "[Parallel(n_jobs=-1)]: Done 184 tasks      | elapsed:  9.3min\n",
            "[Parallel(n_jobs=-1)]: Done 434 tasks      | elapsed: 22.0min\n",
            "[Parallel(n_jobs=-1)]: Done 784 tasks      | elapsed: 39.4min\n",
            "[Parallel(n_jobs=-1)]: Done 1234 tasks      | elapsed: 61.7min\n",
            "[Parallel(n_jobs=-1)]: Done 1784 tasks      | elapsed: 89.1min\n",
            "[Parallel(n_jobs=-1)]: Done 2434 tasks      | elapsed: 121.6min\n",
            "[Parallel(n_jobs=-1)]: Done 2700 out of 2700 | elapsed: 134.7min finished\n"
          ],
          "name": "stderr"
        },
        {
          "output_type": "stream",
          "text": [
            "Best parameters set:\n",
            "[('vect', TfidfVectorizer(analyzer='word', binary=False, decode_error='strict',\n",
            "                dtype=<class 'numpy.float64'>, encoding='utf-8',\n",
            "                input='content', lowercase=True, max_df=0.3, max_features=None,\n",
            "                min_df=5, ngram_range=(1, 3), norm='l2',\n",
            "                preprocessor=<function const at 0x7f7c845419e0>,\n",
            "                smooth_idf=True, stop_words=None, strip_accents=None,\n",
            "                sublinear_tf=False, token_pattern='(?u)\\\\b\\\\w\\\\w+\\\\b',\n",
            "                tokenizer=<function const at 0x7f7c845419e0>, use_idf=True,\n",
            "                vocabulary=None)), ('clf', MultinomialNB(alpha=0.1, class_prior=None, fit_prior=True))]\n",
            "Best score: 0.7593\n",
            "Applying best classifier on test data:\n",
            "0.7518796992481203\n",
            "              precision    recall  f1-score   support\n",
            "\n",
            "           0       0.78      0.68      0.73        72\n",
            "           1       0.67      0.58      0.62        57\n",
            "           2       0.76      0.85      0.80        52\n",
            "           3       0.95      0.88      0.91        59\n",
            "           4       0.96      0.69      0.80        71\n",
            "           5       0.82      0.66      0.73        62\n",
            "           6       0.77      0.69      0.73        85\n",
            "           7       0.78      0.93      0.85        91\n",
            "           8       0.64      0.80      0.71        69\n",
            "           9       0.67      0.69      0.68        71\n",
            "          10       0.69      0.75      0.72        76\n",
            "          11       0.81      0.75      0.78        73\n",
            "          12       0.78      0.83      0.80        88\n",
            "          13       0.78      0.59      0.67        73\n",
            "          14       0.73      0.73      0.73        66\n",
            "          15       0.76      0.76      0.76        68\n",
            "          16       0.79      0.81      0.80        91\n",
            "          17       0.81      0.81      0.81        81\n",
            "          18       0.72      0.94      0.82        81\n",
            "          19       0.88      0.88      0.88        92\n",
            "          20       0.81      0.77      0.79        84\n",
            "          21       0.72      0.95      0.82        80\n",
            "          22       0.70      0.78      0.74        82\n",
            "          23       0.84      0.54      0.66        71\n",
            "          24       0.82      0.68      0.74        72\n",
            "          25       0.65      0.95      0.77        64\n",
            "          26       0.79      0.93      0.85        59\n",
            "          27       0.72      0.47      0.57        45\n",
            "          28       0.63      0.57      0.60        70\n",
            "          29       0.56      0.65      0.60        57\n",
            "          30       0.75      0.84      0.79        91\n",
            "          31       0.61      0.54      0.57        71\n",
            "          32       0.80      0.56      0.66        70\n",
            "\n",
            "    accuracy                           0.75      2394\n",
            "   macro avg       0.76      0.74      0.74      2394\n",
            "weighted avg       0.76      0.75      0.75      2394\n",
            "\n"
          ],
          "name": "stdout"
        }
      ]
    },
    {
      "cell_type": "markdown",
      "metadata": {
        "id": "9q4x1qcVS-hs",
        "colab_type": "text"
      },
      "source": [
        "**ACCURACY WITH NAIVE BAYES: 75.2%**"
      ]
    },
    {
      "cell_type": "markdown",
      "metadata": {
        "id": "h0sJkk-cSOFY",
        "colab_type": "text"
      },
      "source": [
        "## SVM"
      ]
    },
    {
      "cell_type": "code",
      "metadata": {
        "id": "QUsnxLLKSOFZ",
        "colab_type": "code",
        "outputId": "fab5dd2a-d909-4fdc-816c-75235bf7af25",
        "colab": {}
      },
      "source": [
        "pipeline = Pipeline([\n",
        "                ('tfidf', CountVectorizer(tokenizer=const, preprocessor=const)),\n",
        "                ('clf', LinearSVC()),\n",
        "            ])\n",
        "parameters = {\n",
        "                'tfidf__max_df': [0.3, 0.5, 0,75, 0.9],\n",
        "                'tfidf__min_df': [3, None],\n",
        "                'tfidf__max_features': [3000, 5000, None],\n",
        "                'tfidf__ngram_range': [(1, 1), (1, 2), (1, 3)],\n",
        "                \"clf__C\": [0.01, 0.1, 1],\n",
        "                \"clf__class_weight\": ['balanced', None],\n",
        "} \n",
        "model_svc_count = grid_search(X_train_tokens , y_train, X_test_tokens, y_test, parameters, pipeline)"
      ],
      "execution_count": 0,
      "outputs": [
        {
          "output_type": "stream",
          "text": [
            "Fitting 5 folds for each of 720 candidates, totalling 3600 fits\n"
          ],
          "name": "stdout"
        },
        {
          "output_type": "stream",
          "text": [
            "[Parallel(n_jobs=-1)]: Using backend LokyBackend with 8 concurrent workers.\n",
            "[Parallel(n_jobs=-1)]: Done  34 tasks      | elapsed:  1.7min\n",
            "[Parallel(n_jobs=-1)]: Done 184 tasks      | elapsed:  9.2min\n",
            "[Parallel(n_jobs=-1)]: Done 434 tasks      | elapsed: 21.5min\n",
            "[Parallel(n_jobs=-1)]: Done 784 tasks      | elapsed: 38.8min\n",
            "[Parallel(n_jobs=-1)]: Done 1234 tasks      | elapsed: 61.0min\n",
            "[Parallel(n_jobs=-1)]: Done 1784 tasks      | elapsed: 88.3min\n",
            "[Parallel(n_jobs=-1)]: Done 2434 tasks      | elapsed: 121.0min\n",
            "[Parallel(n_jobs=-1)]: Done 3184 tasks      | elapsed: 158.6min\n",
            "[Parallel(n_jobs=-1)]: Done 3600 out of 3600 | elapsed: 179.5min finished\n"
          ],
          "name": "stderr"
        },
        {
          "output_type": "stream",
          "text": [
            "Best parameters set:\n",
            "[('tfidf', CountVectorizer(analyzer='word', binary=False, decode_error='strict',\n",
            "                dtype=<class 'numpy.int64'>, encoding='utf-8', input='content',\n",
            "                lowercase=True, max_df=0.3, max_features=None, min_df=3,\n",
            "                ngram_range=(1, 3),\n",
            "                preprocessor=<function const at 0x7f7c845419e0>,\n",
            "                stop_words=None, strip_accents=None,\n",
            "                token_pattern='(?u)\\\\b\\\\w\\\\w+\\\\b',\n",
            "                tokenizer=<function const at 0x7f7c845419e0>, vocabulary=None)), ('clf', LinearSVC(C=0.01, class_weight=None, dual=True, fit_intercept=True,\n",
            "          intercept_scaling=1, loss='squared_hinge', max_iter=1000,\n",
            "          multi_class='ovr', penalty='l2', random_state=None, tol=0.0001,\n",
            "          verbose=0))]\n",
            "Best score: 0.8336\n",
            "Applying best classifier on test data:\n",
            "0.841687552213868\n",
            "              precision    recall  f1-score   support\n",
            "\n",
            "           0       0.87      0.82      0.84        72\n",
            "           1       0.83      0.77      0.80        57\n",
            "           2       0.82      0.90      0.86        52\n",
            "           3       0.91      0.90      0.91        59\n",
            "           4       0.90      0.89      0.89        71\n",
            "           5       0.88      0.73      0.80        62\n",
            "           6       0.88      0.91      0.89        85\n",
            "           7       0.89      0.98      0.93        91\n",
            "           8       0.75      0.83      0.79        69\n",
            "           9       0.76      0.72      0.74        71\n",
            "          10       0.69      0.72      0.71        76\n",
            "          11       0.89      0.78      0.83        73\n",
            "          12       0.81      0.83      0.82        88\n",
            "          13       0.73      0.73      0.73        73\n",
            "          14       0.84      0.79      0.81        66\n",
            "          15       0.88      0.88      0.88        68\n",
            "          16       0.93      0.91      0.92        91\n",
            "          17       0.81      0.85      0.83        81\n",
            "          18       0.91      0.91      0.91        81\n",
            "          19       0.97      0.95      0.96        92\n",
            "          20       0.89      0.88      0.89        84\n",
            "          21       0.93      0.96      0.94        80\n",
            "          22       0.86      0.95      0.90        82\n",
            "          23       0.85      0.73      0.79        71\n",
            "          24       0.84      0.79      0.81        72\n",
            "          25       0.87      0.97      0.92        64\n",
            "          26       0.89      0.97      0.93        59\n",
            "          27       0.64      0.67      0.65        45\n",
            "          28       0.84      0.73      0.78        70\n",
            "          29       0.75      0.77      0.76        57\n",
            "          30       0.94      0.97      0.95        91\n",
            "          31       0.62      0.63      0.63        71\n",
            "          32       0.75      0.74      0.75        70\n",
            "\n",
            "    accuracy                           0.84      2394\n",
            "   macro avg       0.84      0.83      0.83      2394\n",
            "weighted avg       0.84      0.84      0.84      2394\n",
            "\n"
          ],
          "name": "stdout"
        }
      ]
    },
    {
      "cell_type": "code",
      "metadata": {
        "id": "xrkPhFNASOFc",
        "colab_type": "code",
        "outputId": "09af8881-6c4a-442d-fdd2-78e8ee43d0ae",
        "colab": {}
      },
      "source": [
        "pipeline = Pipeline([\n",
        "                ('tfidf', TfidfVectorizer(tokenizer=const, preprocessor=const)),\n",
        "                ('clf', LinearSVC()),\n",
        "            ])\n",
        "parameters = {\n",
        "                'tfidf__max_df': [0.3, 0.5, 0,75, 0.9],\n",
        "                'tfidf__min_df': [3, None],\n",
        "                'tfidf__max_features': [3000, 5000, None],\n",
        "                'tfidf__ngram_range': [(1, 1), (1, 2), (1, 3)],\n",
        "                \"clf__C\": [0.01, 0.1, 1],\n",
        "                \"clf__class_weight\": ['balanced', None],\n",
        "} \n",
        "model_svc_tfidf = grid_search(X_train_tokens , y_train, X_test_tokens, y_test, parameters, pipeline)"
      ],
      "execution_count": 0,
      "outputs": [
        {
          "output_type": "stream",
          "text": [
            "Fitting 5 folds for each of 540 candidates, totalling 2700 fits\n"
          ],
          "name": "stdout"
        },
        {
          "output_type": "stream",
          "text": [
            "[Parallel(n_jobs=-1)]: Using backend LokyBackend with 8 concurrent workers.\n",
            "[Parallel(n_jobs=-1)]: Done  34 tasks      | elapsed:  1.7min\n",
            "[Parallel(n_jobs=-1)]: Done 184 tasks      | elapsed:  9.1min\n",
            "[Parallel(n_jobs=-1)]: Done 434 tasks      | elapsed: 21.2min\n",
            "[Parallel(n_jobs=-1)]: Done 784 tasks      | elapsed: 38.3min\n",
            "[Parallel(n_jobs=-1)]: Done 1234 tasks      | elapsed: 63.5min\n",
            "[Parallel(n_jobs=-1)]: Done 1784 tasks      | elapsed: 94.5min\n",
            "[Parallel(n_jobs=-1)]: Done 2434 tasks      | elapsed: 131.3min\n",
            "[Parallel(n_jobs=-1)]: Done 2700 out of 2700 | elapsed: 146.4min finished\n"
          ],
          "name": "stderr"
        },
        {
          "output_type": "stream",
          "text": [
            "Best parameters set:\n",
            "[('tfidf', TfidfVectorizer(analyzer='word', binary=False, decode_error='strict',\n",
            "                dtype=<class 'numpy.float64'>, encoding='utf-8',\n",
            "                input='content', lowercase=True, max_df=0.5, max_features=None,\n",
            "                min_df=3, ngram_range=(1, 3), norm='l2',\n",
            "                preprocessor=<function const at 0x7f19869a84d0>,\n",
            "                smooth_idf=True, stop_words=None, strip_accents=None,\n",
            "                sublinear_tf=False, token_pattern='(?u)\\\\b\\\\w\\\\w+\\\\b',\n",
            "                tokenizer=<function const at 0x7f19869a84d0>, use_idf=True,\n",
            "                vocabulary=None)), ('clf', LinearSVC(C=1, class_weight='balanced', dual=True, fit_intercept=True,\n",
            "          intercept_scaling=1, loss='squared_hinge', max_iter=1000,\n",
            "          multi_class='ovr', penalty='l2', random_state=None, tol=0.0001,\n",
            "          verbose=0))]\n",
            "Best score: 0.8413\n",
            "Applying best classifier on test data:\n",
            "0.8454469507101086\n",
            "              precision    recall  f1-score   support\n",
            "\n",
            "           0       0.81      0.81      0.81        72\n",
            "           1       0.81      0.77      0.79        57\n",
            "           2       0.84      0.88      0.86        52\n",
            "           3       0.90      0.90      0.90        59\n",
            "           4       0.92      0.85      0.88        71\n",
            "           5       0.88      0.79      0.83        62\n",
            "           6       0.89      0.93      0.91        85\n",
            "           7       0.89      0.98      0.93        91\n",
            "           8       0.77      0.81      0.79        69\n",
            "           9       0.78      0.76      0.77        71\n",
            "          10       0.76      0.71      0.73        76\n",
            "          11       0.94      0.82      0.88        73\n",
            "          12       0.83      0.85      0.84        88\n",
            "          13       0.78      0.77      0.77        73\n",
            "          14       0.79      0.80      0.80        66\n",
            "          15       0.90      0.88      0.89        68\n",
            "          16       0.94      0.92      0.93        91\n",
            "          17       0.86      0.85      0.86        81\n",
            "          18       0.94      0.91      0.92        81\n",
            "          19       0.97      0.93      0.95        92\n",
            "          20       0.89      0.89      0.89        84\n",
            "          21       0.92      0.95      0.93        80\n",
            "          22       0.83      0.91      0.87        82\n",
            "          23       0.84      0.76      0.80        71\n",
            "          24       0.88      0.79      0.83        72\n",
            "          25       0.85      0.95      0.90        64\n",
            "          26       0.88      0.97      0.92        59\n",
            "          27       0.62      0.76      0.68        45\n",
            "          28       0.83      0.70      0.76        70\n",
            "          29       0.75      0.72      0.73        57\n",
            "          30       0.91      0.96      0.93        91\n",
            "          31       0.61      0.65      0.63        71\n",
            "          32       0.75      0.76      0.75        70\n",
            "\n",
            "    accuracy                           0.85      2394\n",
            "   macro avg       0.84      0.84      0.84      2394\n",
            "weighted avg       0.85      0.85      0.85      2394\n",
            "\n"
          ],
          "name": "stdout"
        }
      ]
    },
    {
      "cell_type": "markdown",
      "metadata": {
        "id": "2G6DpBnRStv4",
        "colab_type": "text"
      },
      "source": [
        "**ACCURACY WITH SVM: 84.5%**"
      ]
    },
    {
      "cell_type": "code",
      "metadata": {
        "id": "0uwIUUN6S4oO",
        "colab_type": "code",
        "colab": {}
      },
      "source": [
        ""
      ],
      "execution_count": 0,
      "outputs": []
    }
  ]
}